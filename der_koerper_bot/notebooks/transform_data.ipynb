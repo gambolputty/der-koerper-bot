{
 "cells": [
  {
   "cell_type": "code",
   "execution_count": 7,
   "metadata": {},
   "outputs": [],
   "source": [
    "import csv\n",
    "import sys\n",
    "\n",
    "csv.field_size_limit(sys.maxsize)\n",
    "\n",
    "with open(\"filter_sentences.csv\", \"r\") as file:\n",
    "    reader = csv.DictReader(file)\n",
    "    data = [row for row in reader]"
   ]
  },
  {
   "cell_type": "code",
   "execution_count": 8,
   "metadata": {},
   "outputs": [],
   "source": [
    "import json\n",
    "\n",
    "result = []\n",
    "all_sent_texts = set()\n",
    "\n",
    "for row in data:\n",
    "    new_item = {\n",
    "        \"id\": row[\"id\"],\n",
    "    }\n",
    "\n",
    "    # Every item[\"text\"] begins with \"Der Körper\". Remove it.\n",
    "    new_item[\"text\"] = row[\"text\"][11:]\n",
    "\n",
    "    # Strip trailing characters that are not letters.\n",
    "    new_item[\"text\"] = new_item[\"text\"].rstrip(\".,;:! \")\n",
    "\n",
    "    # Remove all sentences that are not unique.\n",
    "    if new_item[\"text\"] in all_sent_texts:\n",
    "        continue\n",
    "    all_sent_texts.add(new_item[\"text\"])\n",
    "\n",
    "    # Nehme erstes Wort von jedem Satz und speichere es\n",
    "    first_word = new_item[\"text\"].split()[0]\n",
    "    new_item[\"verb\"] = first_word\n",
    "\n",
    "    # Finde Nomen im Satz\n",
    "    new_item[\"nouns\"] = []\n",
    "    for word in new_item[\"text\"].split():\n",
    "        if word[0].isupper():\n",
    "            new_item[\"nouns\"].append(word)\n",
    "\n",
    "    result.append(new_item)\n",
    "\n",
    "with open(\"sentences.json\", \"w\") as file:\n",
    "    json.dump(result, file, indent=4)"
   ]
  }
 ],
 "metadata": {
  "kernelspec": {
   "display_name": ".venv",
   "language": "python",
   "name": "python3"
  },
  "language_info": {
   "codemirror_mode": {
    "name": "ipython",
    "version": 3
   },
   "file_extension": ".py",
   "mimetype": "text/x-python",
   "name": "python",
   "nbconvert_exporter": "python",
   "pygments_lexer": "ipython3",
   "version": "3.11.3"
  }
 },
 "nbformat": 4,
 "nbformat_minor": 2
}
